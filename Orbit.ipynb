{
 "cells": [
  {
   "cell_type": "code",
   "execution_count": 12,
   "metadata": {},
   "outputs": [
    {
     "name": "stdout",
     "output_type": "stream",
     "text": [
      "If this cell runs successfully, it produces no output other than this message.\n"
     ]
    }
   ],
   "source": [
    "# Configure Jupyter so figures appear in the notebook\n",
    "%matplotlib inline\n",
    "\n",
    "# Configure Jupyter to display the assigned value after an assignment\n",
    "%config InteractiveShell.ast_node_interactivity='last_expr_or_assign'\n",
    "\n",
    "# import functions from the modsim library\n",
    "from modsim import *\n",
    "import math as math\n",
    "\n",
    "print('If this cell runs successfully, it produces no output other than this message.')"
   ]
  },
  {
   "cell_type": "code",
   "execution_count": 13,
   "metadata": {},
   "outputs": [],
   "source": [
    "m = UNITS.meter;\n",
    "s = UNITS.seconds;\n",
    "kg = UNITS.kilograms;\n",
    "N = UNITS.newton;\n",
    "AU = UNITS.astronomical_units;"
   ]
  },
  {
   "cell_type": "code",
   "execution_count": 14,
   "metadata": {},
   "outputs": [
    {
     "data": {
      "text/html": [
       "695508000.0 meter"
      ],
      "text/latex": [
       "$695508000.0 meter$"
      ],
      "text/plain": [
       "<Quantity(695508000.0, 'meter')>"
      ]
     },
     "execution_count": 14,
     "metadata": {},
     "output_type": "execute_result"
    }
   ],
   "source": [
    "m_earth = 5.972e24*kg\n",
    "m_sun = 1.989e30*kg\n",
    "d_init = (1*AU).to_base_units()/m\n",
    "G = 6.67408e-11*((N*m**2)/kg**2)\n",
    "r_earth = 6.371e6*m\n",
    "r_sun = 695.508e6*m"
   ]
  },
  {
   "cell_type": "code",
   "execution_count": 26,
   "metadata": {},
   "outputs": [
    {
     "data": {
      "text/html": [
       "<div>\n",
       "<style scoped>\n",
       "    .dataframe tbody tr th:only-of-type {\n",
       "        vertical-align: middle;\n",
       "    }\n",
       "\n",
       "    .dataframe tbody tr th {\n",
       "        vertical-align: top;\n",
       "    }\n",
       "\n",
       "    .dataframe thead th {\n",
       "        text-align: right;\n",
       "    }\n",
       "</style>\n",
       "<table border=\"1\" class=\"dataframe\">\n",
       "  <thead>\n",
       "    <tr style=\"text-align: right;\">\n",
       "      <th></th>\n",
       "      <th>values</th>\n",
       "    </tr>\n",
       "  </thead>\n",
       "  <tbody>\n",
       "    <tr>\n",
       "      <th>init</th>\n",
       "      <td>x     149597870691.0 dimensionless\n",
       "y          ...</td>\n",
       "    </tr>\n",
       "    <tr>\n",
       "      <th>m_earth</th>\n",
       "      <td>5.972e+24 kilogram</td>\n",
       "    </tr>\n",
       "    <tr>\n",
       "      <th>m_sun</th>\n",
       "      <td>1.989e+30 kilogram</td>\n",
       "    </tr>\n",
       "    <tr>\n",
       "      <th>d_final</th>\n",
       "      <td>701879000.0 meter</td>\n",
       "    </tr>\n",
       "    <tr>\n",
       "      <th>G</th>\n",
       "      <td>6.67408e-11 meter ** 2 * newton / kilogram ** 2</td>\n",
       "    </tr>\n",
       "    <tr>\n",
       "      <th>t_0</th>\n",
       "      <td>0 second</td>\n",
       "    </tr>\n",
       "    <tr>\n",
       "      <th>t_end</th>\n",
       "      <td>32188064.494194 second</td>\n",
       "    </tr>\n",
       "  </tbody>\n",
       "</table>\n",
       "</div>"
      ],
      "text/plain": [
       "init       x     149597870691.0 dimensionless\n",
       "y          ...\n",
       "m_earth                                   5.972e+24 kilogram\n",
       "m_sun                                     1.989e+30 kilogram\n",
       "d_final                                    701879000.0 meter\n",
       "G            6.67408e-11 meter ** 2 * newton / kilogram ** 2\n",
       "t_0                                                 0 second\n",
       "t_end                                 32188064.494194 second\n",
       "dtype: object"
      ]
     },
     "execution_count": 26,
     "metadata": {},
     "output_type": "execute_result"
    }
   ],
   "source": [
    "init = State(x = d_init, y = 0, vx = 0, vy = -30e3)\n",
    "system = System(init = init,\n",
    "                m_earth = m_earth,\n",
    "                m_sun = m_sun,\n",
    "                d_final = r_sun + r_earth,\n",
    "                G = G,\n",
    "                t_0 = 0*s,\n",
    "                t_end = ((1.02*UNITS.year).to(UNITS.second))) #kms standard"
   ]
  },
  {
   "cell_type": "code",
   "execution_count": 27,
   "metadata": {},
   "outputs": [],
   "source": [
    "def force_gravitation(state, system):\n",
    "    unpack(system)\n",
    "    x, y, vx, vy = state\n",
    "    \n",
    "    #position = Vector(x, y)\n",
    "    #r = sqrt(x**2 + y**2)*m\n",
    "    #mag = G * m_sun * m_earth / r ** 2\n",
    "    #direction = -position.hat()\n",
    "    #force = direction * mag\n",
    "    r = sqrt(x**2 + y**2)\n",
    "    force = G*(m_earth*m_sun)/(r**2)\n",
    "    angle = math.atan2(y,x) + pi\n",
    "    force = Vector(force * math.cos(angle), force * math.sin(angle))\n",
    "    \n",
    "    return force/m\n"
   ]
  },
  {
   "cell_type": "code",
   "execution_count": 28,
   "metadata": {},
   "outputs": [
    {
     "data": {
      "text/html": [
       "[-3.54238016e+22  4.33816452e+06] meter newton"
      ],
      "text/latex": [
       "$[-3.54238016e+22  4.33816452e+06] meter \\cdot newton$"
      ],
      "text/plain": [
       "<Quantity([-3.54238016e+22  4.33816452e+06], 'meter * newton')>"
      ]
     },
     "execution_count": 28,
     "metadata": {},
     "output_type": "execute_result"
    }
   ],
   "source": [
    "force_gravitation(init, system)"
   ]
  },
  {
   "cell_type": "code",
   "execution_count": 29,
   "metadata": {},
   "outputs": [],
   "source": [
    "def slope_func(state, t, system):\n",
    "    unpack(system)\n",
    "    x, y, vx, vy = state\n",
    "    \n",
    "    force = force_gravitation(state, system)\n",
    "    \n",
    "    velocity = Vector(vx, vy)\n",
    "    acceleration = force/m_earth\n",
    "   \n",
    "    #return velocity.x, velocity.y, acceleration.x, acceleration.y\n",
    "    return velocity, acceleration\n"
   ]
  },
  {
   "cell_type": "code",
   "execution_count": 30,
   "metadata": {},
   "outputs": [
    {
     "data": {
      "text/plain": [
       "(<Quantity([     0. -30000.], 'dimensionless')>,\n",
       " <Quantity([-5.93164795e-03  7.26417367e-19], 'meter * newton / kilogram')>)"
      ]
     },
     "execution_count": 30,
     "metadata": {},
     "output_type": "execute_result"
    }
   ],
   "source": [
    "slope_func(init, 0, system)"
   ]
  },
  {
   "cell_type": "code",
   "execution_count": 31,
   "metadata": {},
   "outputs": [],
   "source": [
    "def event_func(state, t, system):\n",
    "    x,y,vx,vy = state\n",
    "    r = sqrt(x**2 + y**2)*m\n",
    "    return r - system.d_final"
   ]
  },
  {
   "cell_type": "code",
   "execution_count": 32,
   "metadata": {},
   "outputs": [
    {
     "data": {
      "text/html": [
       "148895991691.0 meter"
      ],
      "text/latex": [
       "$148895991691.0 meter$"
      ],
      "text/plain": [
       "<Quantity(148895991691.0, 'meter')>"
      ]
     },
     "execution_count": 32,
     "metadata": {},
     "output_type": "execute_result"
    }
   ],
   "source": [
    "event_func(init, 0, system)"
   ]
  },
  {
   "cell_type": "code",
   "execution_count": 33,
   "metadata": {},
   "outputs": [
    {
     "data": {
      "image/png": "[encoded data removed]",
      "text/plain": [
       "<Figure size 432x288 with 1 Axes>"
      ]
     },
     "metadata": {},
     "output_type": "display_data"
    }
   ],
   "source": [
    "ts = linspace(t_0, system.t_end, 500)*s\n",
    "results, details = run_ode_solver(system, slope_func, vectorized = True, events=event_func, t_eval = ts)\n",
    "#results, details = run_ode_solver(system, slope_func, method='LSODA', min_step=99)\n",
    "results.index /= 60*60*24\n",
    "results.x /= 1e9\n",
    "results.y /= 1e9\n",
    "details\n",
    "plot(results.y, results.x, 'go-')\n",
    "decorate(xlabel = 'X',\n",
    "        ylabel = 'Y')"
   ]
  },
  {
   "cell_type": "code",
   "execution_count": 34,
   "metadata": {},
   "outputs": [
    {
     "data": {
      "image/png": "[encoded data removed]",
      "text/plain": [
       "<Figure size 432x288 with 1 Axes>"
      ]
     },
     "metadata": {},
     "output_type": "display_data"
    }
   ],
   "source": [
    "results.x.plot()\n",
    "results.y.plot()\n",
    "decorate(ylabel = 'Distance [millions of km]',\n",
    "         xlabel = 'Time [days]')"
   ]
  },
  {
   "cell_type": "code",
   "execution_count": 35,
   "metadata": {},
   "outputs": [
    {
     "data": {
      "text/plain": [
       "372.547042756875"
      ]
     },
     "execution_count": 35,
     "metadata": {},
     "output_type": "execute_result"
    }
   ],
   "source": [
    "final_day = get_last_value(results.index)"
   ]
  },
  {
   "cell_type": "code",
   "execution_count": null,
   "metadata": {},
   "outputs": [],
   "source": []
  }
 ],
 "metadata": {
  "kernelspec": {
   "display_name": "Python 3",
   "language": "python",
   "name": "python3"
  },
  "language_info": {
   "codemirror_mode": {
    "name": "ipython",
    "version": 3
   },
   "file_extension": ".py",
   "mimetype": "text/x-python",
   "name": "python",
   "nbconvert_exporter": "python",
   "pygments_lexer": "ipython3",
   "version": "3.6.5"
  }
 },
 "nbformat": 4,
 "nbformat_minor": 2
}
